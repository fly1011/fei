{
 "cells": [
  {
   "cell_type": "markdown",
   "metadata": {},
   "source": [
    "# 选择\n",
    "## 布尔类型、数值和表达式\n",
    "![](../Photo/33.png)\n",
    "- 注意：比较运算符的相等是两个等到，一个等到代表赋值\n",
    "- 在Python中可以用整型0来代表False，其他数字来代表True\n",
    "- 后面还会讲到 is 在判断语句中的用发"
   ]
  },
  {
   "cell_type": "code",
   "execution_count": null,
   "metadata": {},
   "outputs": [],
   "source": [
    "init_account = 100"
   ]
  },
  {
   "cell_type": "code",
   "execution_count": 14,
   "metadata": {},
   "outputs": [
    {
     "name": "stdout",
     "output_type": "stream",
     "text": [
      "Money100\n",
      "消费 100\n",
      "余额 0\n"
     ]
    }
   ],
   "source": [
    "get_money = eval(input('Money'))\n",
    "if init_account >= get_money:\n",
    "    print('消费',get_money)\n",
    "    res = init_account - get_money\n",
    "    init_account = res\n",
    "    print('余额',res)\n",
    "#     send_message() # 函数\n",
    "else:\n",
    "    print('余额不足，请充值')"
   ]
  },
  {
   "cell_type": "markdown",
   "metadata": {},
   "source": [
    "## 字符串的比较使用ASCII值"
   ]
  },
  {
   "cell_type": "markdown",
   "metadata": {},
   "source": [
    "## Markdown \n",
    "- https://github.com/younghz/Markdown"
   ]
  },
  {
   "cell_type": "markdown",
   "metadata": {},
   "source": [
    "## EP:\n",
    "- <img src=\"../Photo/34.png\"></img>\n",
    "- 输入一个数字，判断其实奇数还是偶数"
   ]
  },
  {
   "cell_type": "markdown",
   "metadata": {},
   "source": [
    "## 产生随机数字\n",
    "- 函数random.randint(a,b) 可以用来产生一个a和b之间且包括a和b的随机整数"
   ]
  },
  {
   "cell_type": "code",
   "execution_count": 23,
   "metadata": {},
   "outputs": [
    {
     "data": {
      "text/plain": [
       "33"
      ]
     },
     "execution_count": 23,
     "metadata": {},
     "output_type": "execute_result"
    }
   ],
   "source": [
    "import random\n",
    "random.randint(1,100)"
   ]
  },
  {
   "cell_type": "markdown",
   "metadata": {},
   "source": [
    "##  其他random方法\n",
    "- random.random 返回0.0到1.0之间前闭后开区间的随机浮点\n",
    "- random.randrange(a,b) 前闭后开"
   ]
  },
  {
   "cell_type": "code",
   "execution_count": null,
   "metadata": {},
   "outputs": [],
   "source": []
  },
  {
   "cell_type": "markdown",
   "metadata": {},
   "source": [
    "## EP：\n",
    "- 产生两个随机整数number1和number2，然后显示给用户，使用户输入数字的和，并判定其是否正确\n",
    "- 进阶:写一个随机序号点名程序"
   ]
  },
  {
   "cell_type": "code",
   "execution_count": 34,
   "metadata": {},
   "outputs": [
    {
     "name": "stdout",
     "output_type": "stream",
     "text": [
      "33 99\n",
      "和132\n",
      "yes\n"
     ]
    }
   ],
   "source": [
    "import random\n",
    "a = random.randint(1,100)\n",
    "b = random.randint(1,100)\n",
    "print(a,b)\n",
    "d = a + b\n",
    "c= int (input('和'))\n",
    "if d==c:\n",
    "    print ('yes')\n",
    "else:\n",
    "    print ('no')"
   ]
  },
  {
   "cell_type": "code",
   "execution_count": 35,
   "metadata": {},
   "outputs": [
    {
     "name": "stdout",
     "output_type": "stream",
     "text": [
      "请第 9 行 第 5 个同学回答问题\n"
     ]
    }
   ],
   "source": [
    "import random\n",
    "a = random.randint(1,10)\n",
    "b = random.randint(1,6)\n",
    "if b < 5:\n",
    "    print('请第',a,'行','第',b,'个同学回答问题')\n",
    "else:\n",
    "    print('请第 9 行','第',b,'个同学回答问题')"
   ]
  },
  {
   "cell_type": "markdown",
   "metadata": {},
   "source": [
    "## if语句\n",
    "- 如果条件正确就执行一个单向if语句，亦即当条件为真的时候才执行if内部的语句\n",
    "- Python有很多选择语句:\n",
    "> - 单向if \n",
    "  - 双向if-else\n",
    "  - 嵌套if\n",
    "  - 多向if-elif-else\n",
    "  \n",
    "- 注意：当语句含有子语句的时候，那么一定至少要有一个缩进，也就是说如果有儿子存在，那么一定要缩进\n",
    "- 切记不可tab键和space混用，单用tab 或者 space\n",
    "- 当你输出的结果是无论if是否为真时都需要显示时，语句应该与if对齐"
   ]
  },
  {
   "cell_type": "code",
   "execution_count": 37,
   "metadata": {},
   "outputs": [
    {
     "name": "stdout",
     "output_type": "stream",
     "text": [
      "输入成绩： 55\n",
      "E\n"
     ]
    }
   ],
   "source": [
    "chengji = eval(input('输入成绩： '))\n",
    "if chengji >= 90:\n",
    "    print('A')\n",
    "elif chengji >= 80:\n",
    "    print('B')\n",
    "elif chengji >= 70:\n",
    "    print('C')\n",
    "elif chengji >= 60:\n",
    "    print('D')\n",
    "else:\n",
    "    print('E')"
   ]
  },
  {
   "cell_type": "code",
   "execution_count": null,
   "metadata": {},
   "outputs": [],
   "source": []
  },
  {
   "cell_type": "markdown",
   "metadata": {},
   "source": [
    "## EP：\n",
    "- 用户输入一个数字，判断其实奇数还是偶数\n",
    "- 进阶：可以查看下4.5实例研究猜生日"
   ]
  },
  {
   "cell_type": "code",
   "execution_count": 40,
   "metadata": {},
   "outputs": [
    {
     "name": "stdout",
     "output_type": "stream",
     "text": [
      "输入一个数字： 11\n",
      "奇数\n"
     ]
    }
   ],
   "source": [
    "sum = eval(input('输入一个数字： '))\n",
    "if sum % 2 == 0:\n",
    "    print('偶数')\n",
    "else:\n",
    "    print('奇数')"
   ]
  },
  {
   "cell_type": "markdown",
   "metadata": {},
   "source": [
    "## 双向if-else 语句\n",
    "- 如果条件为真，那么走if内部语句，否则走else内部语句"
   ]
  },
  {
   "cell_type": "markdown",
   "metadata": {},
   "source": [
    "## EP：\n",
    "- 产生两个随机整数number1和number2，然后显示给用户，使用户输入数字，并判定其是否正确,如果正确打印“you‘re correct”，否则打印正确错误"
   ]
  },
  {
   "cell_type": "markdown",
   "metadata": {},
   "source": [
    "## 嵌套if 和多向if-elif-else\n",
    "![](../Photo/35.png)"
   ]
  },
  {
   "cell_type": "markdown",
   "metadata": {},
   "source": [
    "## EP：\n",
    "- 提示用户输入一个年份，然后显示表示这一年的动物\n",
    "![](../Photo/36.png)\n",
    "- 计算身体质量指数的程序\n",
    "- BMI = 以千克为单位的体重除以以米为单位的身高\n",
    "![](../Photo/37.png)"
   ]
  },
  {
   "cell_type": "code",
   "execution_count": 49,
   "metadata": {},
   "outputs": [
    {
     "name": "stdout",
     "output_type": "stream",
     "text": [
      "输入一个年份：2005\n",
      "鸡\n"
     ]
    }
   ],
   "source": [
    "year = eval(input('输入一个年份：'))\n",
    "s = year % 12\n",
    "if s == 0:\n",
    "    print('猴')\n",
    "elif s == 1:\n",
    "    print('鸡')\n",
    "elif s == 2:\n",
    "    print('狗')\n",
    "elif s == 3:\n",
    "    print('猪')\n",
    "elif s == 4:\n",
    "    print('鼠')\n",
    "elif s == 5:\n",
    "    print('牛')\n",
    "elif s == 6:\n",
    "    print('虎')\n",
    "elif s == 7:\n",
    "    print('兔')\n",
    "elif s == 8:\n",
    "    print('龙')\n",
    "elif s == 9:\n",
    "    print('蛇')\n",
    "elif s == 10:\n",
    "    print('马')\n",
    "elif s == 11:\n",
    "    print('羊')"
   ]
  },
  {
   "cell_type": "markdown",
   "metadata": {},
   "source": [
    "## 逻辑运算符\n",
    "![](../Photo/38.png)"
   ]
  },
  {
   "cell_type": "markdown",
   "metadata": {},
   "source": [
    "![](../Photo/39.png)\n",
    "![](../Photo/40.png)"
   ]
  },
  {
   "cell_type": "markdown",
   "metadata": {},
   "source": [
    "## EP：\n",
    "- 判定闰年：一个年份如果能被4整除但不能被100整除，或者能被400整除，那么这个年份就是闰年\n",
    "- 提示用户输入一个年份，并返回是否是闰年\n",
    "- 提示用户输入一个数字，判断其是否为水仙花数"
   ]
  },
  {
   "cell_type": "code",
   "execution_count": 65,
   "metadata": {},
   "outputs": [
    {
     "name": "stdout",
     "output_type": "stream",
     "text": [
      "输入一个年份：1200\n",
      "闰年\n"
     ]
    }
   ],
   "source": [
    "year = eval(input('输入一个年份：'))\n",
    "if (year % 4 ==0 and year % 100 != 0 ) or year % 400 ==0:\n",
    "    print('闰年')\n",
    "else:\n",
    "    print('平年')"
   ]
  },
  {
   "cell_type": "code",
   "execution_count": 69,
   "metadata": {},
   "outputs": [
    {
     "name": "stdout",
     "output_type": "stream",
     "text": [
      "输入一个大于等于3位的数：143\n",
      "不是水仙花数\n"
     ]
    }
   ],
   "source": [
    "sum = eval(input('输入一个大于等于3位的数：'))\n",
    "a = sum % 10\n",
    "b = ( sum // 10 ) % 10\n",
    "c = ( sum // 10 ) // 10\n",
    "d = a * a * a + b * b * b + c * c * c\n",
    "if d == sum:\n",
    "    print('是水仙花数')\n",
    "else:\n",
    "    print('不是水仙花数')"
   ]
  },
  {
   "cell_type": "code",
   "execution_count": 2,
   "metadata": {},
   "outputs": [
    {
     "name": "stdout",
     "output_type": "stream",
     "text": [
      "153\n",
      "370\n",
      "371\n",
      "407\n"
     ]
    }
   ],
   "source": [
    "for sum in range(100,1000):\n",
    "    a = sum % 10\n",
    "    b = ( sum // 10 ) % 10\n",
    "    c = ( sum // 10 ) // 10\n",
    "    d = a ** 3 + b ** 3 + c ** 3\n",
    "    if d == sum:\n",
    "        print(d)"
   ]
  },
  {
   "cell_type": "markdown",
   "metadata": {},
   "source": [
    "## 实例研究：彩票\n",
    "![](../Photo/41.png)"
   ]
  },
  {
   "cell_type": "code",
   "execution_count": 7,
   "metadata": {},
   "outputs": [
    {
     "name": "stdout",
     "output_type": "stream",
     "text": [
      "38\n",
      "输入一个两位数：83\n",
      "奖金为3000美元\n"
     ]
    }
   ],
   "source": [
    "import random\n",
    "sum = random.randint(10,100)\n",
    "a = sum % 10\n",
    "b = sum // 10 \n",
    "print(sum)\n",
    "number = eval(input('输入一个两位数：'))\n",
    "c = number % 10\n",
    "d = number // 10 \n",
    "if sum == number:\n",
    "    print('奖金为10000美元')\n",
    "elif a == d and b == c:\n",
    "    print('奖金为3000美元')\n",
    "elif a == c or b ==d:\n",
    "    print('奖金为1000美元')\n",
    "else:\n",
    "    print('没中奖')"
   ]
  },
  {
   "cell_type": "code",
   "execution_count": 8,
   "metadata": {},
   "outputs": [
    {
     "name": "stdout",
     "output_type": "stream",
     "text": [
      "请输入一个两位数： 86\n",
      "随机生成：  95\n",
      "抱歉什么也没有！\n"
     ]
    }
   ],
   "source": [
    "import random\n",
    "a = input('请输入一个两位数： ')\n",
    "b = str(random.randint(10,99))\n",
    "print('随机生成： ',b)\n",
    "if a == (b[0]+b[1]):\n",
    "    print('恭喜获得10000$')\n",
    "elif a == (b[1]+b[0]):\n",
    "    print('恭喜获得3000$')\n",
    "elif a[0] == b[0] or a[0] == b[1] or a[1] == b[0] or a[1] == b[1]:\n",
    "    print('恭喜获得1000$')\n",
    "else:\n",
    "    print('抱歉什么也没有！')"
   ]
  },
  {
   "cell_type": "markdown",
   "metadata": {},
   "source": [
    "# Homework\n",
    "- 1\n",
    "![](../Photo/42.png)"
   ]
  },
  {
   "cell_type": "code",
   "execution_count": 63,
   "metadata": {},
   "outputs": [
    {
     "name": "stdout",
     "output_type": "stream",
     "text": [
      "输入a,b,c: 1, 3, 1\n",
      "-0.3819660112501051 -2.618033988749895\n"
     ]
    }
   ],
   "source": [
    "import math\n",
    "a, b, c, = eval(input('输入a,b,c: '))\n",
    "A = b * b - 4 * a * c\n",
    "if A < 0:\n",
    "    print('no')\n",
    "else:\n",
    "    r1 = (-b + math.sqrt(A)) / (2 * a)\n",
    "    r2 = (-b - math.sqrt(A)) / (2 * a)\n",
    "    if A > 0:\n",
    "        print(r1,r2)\n",
    "    elif A == 0:\n",
    "        print('r1=r2',r1)"
   ]
  },
  {
   "cell_type": "markdown",
   "metadata": {},
   "source": [
    "- 2\n",
    "![](../Photo/43.png)"
   ]
  },
  {
   "cell_type": "code",
   "execution_count": 12,
   "metadata": {},
   "outputs": [
    {
     "name": "stdout",
     "output_type": "stream",
     "text": [
      "2 100\n",
      "输入两个数的和：102\n",
      "答案正确\n"
     ]
    }
   ],
   "source": [
    "import random\n",
    "a = random.randint(1,100)\n",
    "b = random.randint(1,100)\n",
    "print(a,b)\n",
    "sum = eval(input('输入两个数的和：'))\n",
    "c = a + b\n",
    "if sum == c:\n",
    "    print('答案正确')\n",
    "else:\n",
    "    print('答案错误,正确答案为：',c)"
   ]
  },
  {
   "cell_type": "markdown",
   "metadata": {},
   "source": [
    "- 3\n",
    "![](../Photo/44.png)"
   ]
  },
  {
   "cell_type": "code",
   "execution_count": 56,
   "metadata": {},
   "outputs": [
    {
     "name": "stdout",
     "output_type": "stream",
     "text": [
      "enter today is day:1\n",
      "enter the number of days elapsed since today:6\n",
      "today is:sun\n",
      "the futer day is: 0\n"
     ]
    }
   ],
   "source": [
    "a = eval(input('enter today is day:'))\n",
    "b = eval(input('enter the number of days elapsed since today:'))\n",
    "c = (a + b) % 7\n",
    "if a==0 or c==0:\n",
    "    print('today is:sun')\n",
    "print('the futer day is:',c)"
   ]
  },
  {
   "cell_type": "code",
   "execution_count": 57,
   "metadata": {},
   "outputs": [
    {
     "name": "stdout",
     "output_type": "stream",
     "text": [
      "今天是星期几1\n",
      "今天是周 1\n",
      "你想知道几天后是星期几6\n",
      "6天后是周日\n"
     ]
    }
   ],
   "source": [
    "x = eval (input('今天是星期几'))\n",
    "if x==0:\n",
    "    print ('今天是周日')\n",
    "else:\n",
    "    print('今天是周',x)    \n",
    "y = eval (input('你想知道几天后是星期几'))\n",
    "a =( x+y ) % 7 \n",
    "if a==0:\n",
    "    print (str(y)+'天后是周日')\n",
    "else:\n",
    "    print(str(y) +'天后是周' +str((x+y)%7 ))"
   ]
  },
  {
   "cell_type": "markdown",
   "metadata": {},
   "source": [
    "- 4\n",
    "![](../Photo/45.png)"
   ]
  },
  {
   "cell_type": "code",
   "execution_count": 25,
   "metadata": {},
   "outputs": [
    {
     "name": "stdout",
     "output_type": "stream",
     "text": [
      "输入三个整数：34,87,1\n",
      "1 34 87\n"
     ]
    }
   ],
   "source": [
    "a, b, c = eval(input('输入三个整数：'))\n",
    "if a>b and b>c:\n",
    "    print(c,b,a)\n",
    "elif a>c and c>b:\n",
    "    print(b,c,a)\n",
    "elif b>c and c>a:\n",
    "    print(a,c,b)\n",
    "elif b>a and a>c:\n",
    "    print(c,a,b)\n",
    "elif c>a and a>b:\n",
    "    print(b,a,c)\n",
    "elif c>b and b>a:\n",
    "    print(a,b,c)"
   ]
  },
  {
   "cell_type": "code",
   "execution_count": 29,
   "metadata": {},
   "outputs": [
    {
     "name": "stdout",
     "output_type": "stream",
     "text": [
      "输入三个整数：34,24,1\n",
      "1 24 34\n"
     ]
    }
   ],
   "source": [
    "a, b, c = eval(input('输入三个整数：'))\n",
    "x1 = max(a,b,c)\n",
    "x2 = min(a,b,c)\n",
    "x3 = a + b + c\n",
    "x4 = x3 - max(a,b,c) - min(a,b,c)\n",
    "print(x2,x4,x1)"
   ]
  },
  {
   "cell_type": "markdown",
   "metadata": {},
   "source": [
    "- 5\n",
    "![](../Photo/46.png)"
   ]
  },
  {
   "cell_type": "code",
   "execution_count": 30,
   "metadata": {},
   "outputs": [
    {
     "name": "stdout",
     "output_type": "stream",
     "text": [
      "enter weight and price for package 1:50,24.59\n",
      "enter weight and price for package 2:25,11.99\n",
      "package 2 has the better price\n"
     ]
    }
   ],
   "source": [
    "w1,p1 = eval(input('enter weight and price for package 1:'))\n",
    "w2,p2 = eval(input('enter weight and price for package 2:'))\n",
    "a = p1 / w1\n",
    "b = p2 / w2\n",
    "if a>b:\n",
    "    print('package 2 has the better price')\n",
    "elif a<b:\n",
    "    print('package 1 has the better price')"
   ]
  },
  {
   "cell_type": "markdown",
   "metadata": {},
   "source": [
    "- 6\n",
    "![](../Photo/47.png)"
   ]
  },
  {
   "cell_type": "code",
   "execution_count": 66,
   "metadata": {},
   "outputs": [
    {
     "name": "stdout",
     "output_type": "stream",
     "text": [
      "输入年份和月份：2018,2\n",
      "2018年2月有28天\n"
     ]
    }
   ],
   "source": [
    "year,m = eval(input('输入年份和月份：'))\n",
    "if (m>6 and m%2==0) or (m<8 and m%2==1):\n",
    "    print(str(year) + '年' +str(m)+'月有31天' )\n",
    "elif m==2:\n",
    "    if (year%4==0 and year%100 != 0) or year%400==0:\n",
    "        print(str(year) + '年' +str(m)+'月有29天')\n",
    "    else:\n",
    "        print(str(year) + '年' +str(m)+'月有28天')\n",
    "else:\n",
    "    print((str(year) + '年' +str(m)+'月有30天' ))"
   ]
  },
  {
   "cell_type": "markdown",
   "metadata": {},
   "source": [
    "- 7\n",
    "![](../Photo/48.png)"
   ]
  },
  {
   "cell_type": "code",
   "execution_count": 50,
   "metadata": {},
   "outputs": [
    {
     "name": "stdout",
     "output_type": "stream",
     "text": [
      "1\n",
      "输入猜测值1或2：1\n",
      "猜测正确\n"
     ]
    }
   ],
   "source": [
    "import random\n",
    "a = random.randint(1,2)\n",
    "print(a)\n",
    "b = eval(input('输入猜测值1或2：'))\n",
    "if a == b:\n",
    "    print('猜测正确')\n",
    "else:\n",
    "    print('猜测错误')"
   ]
  },
  {
   "cell_type": "markdown",
   "metadata": {},
   "source": [
    "- 8\n",
    "![](../Photo/49.png)"
   ]
  },
  {
   "cell_type": "code",
   "execution_count": 75,
   "metadata": {},
   "outputs": [
    {
     "name": "stdout",
     "output_type": "stream",
     "text": [
      "输入一个0-2的数，分别代表剪刀，石头，布：1\n",
      "0\n",
      "you are win!\n"
     ]
    }
   ],
   "source": [
    "import random\n",
    "a = eval(input('输入一个0-2的数，分别代表剪刀，石头，布：'))\n",
    "b = random.randint(0,2)\n",
    "print(b)\n",
    "if a == b:\n",
    "    print('平局')\n",
    "elif (a==0 and b == 2) or (a == 1 and b == 0) or (a == 2 and b == 1):\n",
    "    print('you are win!')\n",
    "else:\n",
    "    print('you are lose!')"
   ]
  },
  {
   "cell_type": "markdown",
   "metadata": {},
   "source": [
    "- 9\n",
    "![](../Photo/50.png)"
   ]
  },
  {
   "cell_type": "code",
   "execution_count": 62,
   "metadata": {},
   "outputs": [
    {
     "name": "stdout",
     "output_type": "stream",
     "text": [
      "输入年份：2012\n",
      "输入月份：5\n",
      "输入当前月份的某天：12\n",
      "Day of the week is 星期六\n"
     ]
    }
   ],
   "source": [
    "year = eval(input('输入年份：'))\n",
    "months = eval(input('输入月份：'))\n",
    "days = eval(input('输入当前月份的某天：'))\n",
    "hdayDict = {0:'星期六',1:'星期日', 2: '星期一', 3: '星期二', 4: '星期三', 5: '星期四', 6: '星期五'}\n",
    "monDict = {1: '13', 2: '14', 3: '3', 4: '4', 5: '5', 6: '6', 7: '7', 8: '8', 9: '9', 10: '10', \\\n",
    "             11: '11', 12: '12'}\n",
    "if months == 1 or months == 2:\n",
    "    year = year - 1 \n",
    "shijishu = year // 100\n",
    "shijiyear = year % 100\n",
    "h = (days + (26 * (eval(monDict[months]) + 1)) // 10 + shijiyear + shijiyear // 4 + shijishu // 4 + 5 * shijishu) % 7\n",
    "print('Day of the week is ' + hdayDict[h])"
   ]
  },
  {
   "cell_type": "markdown",
   "metadata": {},
   "source": [
    "- 10\n",
    "![](../Photo/51.png)"
   ]
  },
  {
   "cell_type": "code",
   "execution_count": 73,
   "metadata": {},
   "outputs": [
    {
     "name": "stdout",
     "output_type": "stream",
     "text": [
      "红桃 2\n"
     ]
    }
   ],
   "source": [
    "import random\n",
    "a = [\"A\",\"2\",\"3\",\"4\",\"5\",\"6\",\"7\",\"8\",\"9\",\"10\",\"J\",\"Q\",\"K\"]\n",
    "b = [\"梅花\",\"红桃\",\"方块\",\"黑桃\"]\n",
    "x = a[random.randint(0,12)]\n",
    "y = b[random.randint(0,3)]\n",
    "print(y,x)"
   ]
  },
  {
   "cell_type": "markdown",
   "metadata": {},
   "source": [
    "- 11\n",
    "![](../Photo/52.png)"
   ]
  },
  {
   "cell_type": "code",
   "execution_count": 16,
   "metadata": {},
   "outputs": [
    {
     "name": "stdout",
     "output_type": "stream",
     "text": [
      "输入一个三位数：123\n",
      "不是回文数\n"
     ]
    }
   ],
   "source": [
    "sum = eval(input('输入一个三位数：'))\n",
    "a = sum % 10\n",
    "b = ( sum // 10 ) % 10\n",
    "c = ( sum // 10 ) // 10\n",
    "d = 100*c + 10*b + c\n",
    "if sum == d:\n",
    "    print('回文数')\n",
    "else:\n",
    "    print('不是回文数')"
   ]
  },
  {
   "cell_type": "markdown",
   "metadata": {},
   "source": [
    "- 12\n",
    "![](../Photo/53.png)"
   ]
  },
  {
   "cell_type": "code",
   "execution_count": 14,
   "metadata": {},
   "outputs": [
    {
     "name": "stdout",
     "output_type": "stream",
     "text": [
      "输入三角形的三边长：2,1,1\n",
      "输入不合法\n"
     ]
    }
   ],
   "source": [
    "a, b, c = eval(input('输入三角形的三边长：'))\n",
    "if (a + b > c and a - b < c) or (a + c > b and a - c < b) or (b + c > a and b - c < a):\n",
    "    d = a + b + c\n",
    "    print('输入合法，边长为：',d)\n",
    "else:\n",
    "    print('输入不合法')"
   ]
  }
 ],
 "metadata": {
  "kernelspec": {
   "display_name": "Python 3",
   "language": "python",
   "name": "python3"
  },
  "language_info": {
   "codemirror_mode": {
    "name": "ipython",
    "version": 3
   },
   "file_extension": ".py",
   "mimetype": "text/x-python",
   "name": "python",
   "nbconvert_exporter": "python",
   "pygments_lexer": "ipython3",
   "version": "3.6.4"
  }
 },
 "nbformat": 4,
 "nbformat_minor": 2
}
